{
 "cells": [
  {
   "cell_type": "markdown",
   "metadata": {},
   "source": [
    "### Numpy"
   ]
  },
  {
   "cell_type": "code",
   "execution_count": 1,
   "metadata": {},
   "outputs": [],
   "source": [
    "import numpy as np"
   ]
  },
  {
   "cell_type": "code",
   "execution_count": 3,
   "metadata": {},
   "outputs": [
    {
     "data": {
      "text/plain": [
       "array([16, 87, 24, 40, 48, 69, 69, 10, 11, 18, 50, 86, 43, 73, 53, 13, 78,\n",
       "       77, 70, 58, 23, 38, 21, 55, 33, 52, 69, 77, 82, 36, 34, 67, 71, 90,\n",
       "       91, 86, 43, 16, 43, 23, 45, 23, 56, 85, 17, 46, 56, 31, 86, 87, 90,\n",
       "       21, 59, 67, 93, 18, 55, 13, 91, 24, 72, 11, 89, 55, 67, 33, 11, 75,\n",
       "       44, 41, 46, 29, 44, 73, 29, 80, 85, 15, 50, 94, 17, 52, 58, 48, 29,\n",
       "       57, 38, 43, 77, 33, 75, 85, 75, 37, 46, 12, 43, 27, 67, 52])"
      ]
     },
     "execution_count": 3,
     "metadata": {},
     "output_type": "execute_result"
    }
   ],
   "source": [
    "np.random.randint(10, 100, 100) # (low, high, number of elements)"
   ]
  },
  {
   "cell_type": "code",
   "execution_count": 6,
   "metadata": {},
   "outputs": [
    {
     "data": {
      "text/plain": [
       "array([[[[ 0.78105012, -1.78591674,  0.60665021],\n",
       "         [ 1.30316452,  0.27753782, -1.56549625],\n",
       "         [-0.46544274, -0.18787106, -1.65137982]],\n",
       "\n",
       "        [[-1.02521195, -0.25223689, -0.19955612],\n",
       "         [ 0.03877669,  0.72188445, -0.81150042],\n",
       "         [-1.00496186, -0.52130258, -0.61598227]],\n",
       "\n",
       "        [[ 0.28714627,  0.3452692 ,  0.45456562],\n",
       "         [ 0.48933968, -1.39898436, -0.3061746 ],\n",
       "         [ 0.04852761, -1.01792188,  0.72942742]]],\n",
       "\n",
       "\n",
       "       [[[ 0.76401171, -0.6710197 ,  1.14978108],\n",
       "         [-0.81886342,  0.41980403, -0.78364191],\n",
       "         [-1.0111284 ,  0.70762978,  0.31618766]],\n",
       "\n",
       "        [[ 1.53276013,  1.38303848, -1.0155746 ],\n",
       "         [ 1.30516274, -0.40185052,  0.18530512],\n",
       "         [ 0.41523443,  1.18234321,  0.4706544 ]],\n",
       "\n",
       "        [[-0.6269518 , -0.3620306 , -1.51797297],\n",
       "         [-0.25418723,  0.42497869,  1.46071828],\n",
       "         [-0.54563563,  1.63236748, -0.8772817 ]]],\n",
       "\n",
       "\n",
       "       [[[-0.55675586,  0.33571595, -0.94582896],\n",
       "         [ 0.15810497,  0.14188309,  2.01877979],\n",
       "         [-0.5995707 , -0.32848111, -0.6900389 ]],\n",
       "\n",
       "        [[ 0.48484274, -2.13221254, -1.07303342],\n",
       "         [ 0.64801832, -0.77976896,  0.71450983],\n",
       "         [ 1.01330364, -0.75841183,  0.18479749]],\n",
       "\n",
       "        [[ 0.45239771,  0.03817256,  1.78014146],\n",
       "         [-1.21935436, -1.04213653, -2.2354759 ],\n",
       "         [ 1.13562982, -1.45717015, -1.59413398]]]])"
      ]
     },
     "execution_count": 6,
     "metadata": {},
     "output_type": "execute_result"
    }
   ],
   "source": [
    "np.random.randn(3, 3,3,3)"
   ]
  },
  {
   "cell_type": "code",
   "execution_count": 7,
   "metadata": {},
   "outputs": [
    {
     "data": {
      "text/plain": [
       "array([0., 0., 0., 0.])"
      ]
     },
     "execution_count": 7,
     "metadata": {},
     "output_type": "execute_result"
    }
   ],
   "source": [
    "np.zeros(4)"
   ]
  },
  {
   "cell_type": "code",
   "execution_count": 8,
   "metadata": {},
   "outputs": [
    {
     "data": {
      "text/plain": [
       "array([1., 1., 1., 1.])"
      ]
     },
     "execution_count": 8,
     "metadata": {},
     "output_type": "execute_result"
    }
   ],
   "source": [
    "np.ones(4)"
   ]
  },
  {
   "cell_type": "code",
   "execution_count": 11,
   "metadata": {},
   "outputs": [
    {
     "data": {
      "text/plain": [
       "array([ 0.        ,  0.52631579,  1.05263158,  1.57894737,  2.10526316,\n",
       "        2.63157895,  3.15789474,  3.68421053,  4.21052632,  4.73684211,\n",
       "        5.26315789,  5.78947368,  6.31578947,  6.84210526,  7.36842105,\n",
       "        7.89473684,  8.42105263,  8.94736842,  9.47368421, 10.        ])"
      ]
     },
     "execution_count": 11,
     "metadata": {},
     "output_type": "execute_result"
    }
   ],
   "source": [
    "np.linspace(0,10,20)"
   ]
  },
  {
   "cell_type": "code",
   "execution_count": 12,
   "metadata": {},
   "outputs": [
    {
     "data": {
      "text/plain": [
       "array([0. , 0.1, 0.2, 0.3, 0.4, 0.5, 0.6, 0.7, 0.8, 0.9, 1. , 1.1, 1.2,\n",
       "       1.3, 1.4, 1.5, 1.6, 1.7, 1.8, 1.9, 2. , 2.1, 2.2, 2.3, 2.4, 2.5,\n",
       "       2.6, 2.7, 2.8, 2.9, 3. , 3.1, 3.2, 3.3, 3.4, 3.5, 3.6, 3.7, 3.8,\n",
       "       3.9, 4. , 4.1, 4.2, 4.3, 4.4, 4.5, 4.6, 4.7, 4.8, 4.9, 5. , 5.1,\n",
       "       5.2, 5.3, 5.4, 5.5, 5.6, 5.7, 5.8, 5.9, 6. , 6.1, 6.2, 6.3, 6.4,\n",
       "       6.5, 6.6, 6.7, 6.8, 6.9, 7. , 7.1, 7.2, 7.3, 7.4, 7.5, 7.6, 7.7,\n",
       "       7.8, 7.9, 8. , 8.1, 8.2, 8.3, 8.4, 8.5, 8.6, 8.7, 8.8, 8.9, 9. ,\n",
       "       9.1, 9.2, 9.3, 9.4, 9.5, 9.6, 9.7, 9.8, 9.9])"
      ]
     },
     "execution_count": 12,
     "metadata": {},
     "output_type": "execute_result"
    }
   ],
   "source": [
    "np.arange(0,10,0.1)"
   ]
  },
  {
   "cell_type": "code",
   "execution_count": 13,
   "metadata": {},
   "outputs": [
    {
     "data": {
      "text/plain": [
       "array([[1., 0., 0.],\n",
       "       [0., 1., 0.],\n",
       "       [0., 0., 1.]])"
      ]
     },
     "execution_count": 13,
     "metadata": {},
     "output_type": "execute_result"
    }
   ],
   "source": [
    "np.eye(3,3)"
   ]
  },
  {
   "cell_type": "code",
   "execution_count": 15,
   "metadata": {},
   "outputs": [
    {
     "data": {
      "text/plain": [
       "array([[1, 1, 1],\n",
       "       [1, 1, 1],\n",
       "       [1, 1, 1]])"
      ]
     },
     "execution_count": 15,
     "metadata": {},
     "output_type": "execute_result"
    }
   ],
   "source": [
    "np.full([3,3],1)"
   ]
  },
  {
   "cell_type": "code",
   "execution_count": 16,
   "metadata": {},
   "outputs": [
    {
     "data": {
      "text/plain": [
       "array([[1., 1.],\n",
       "       [1., 1.]])"
      ]
     },
     "execution_count": 16,
     "metadata": {},
     "output_type": "execute_result"
    }
   ],
   "source": [
    "np.empty([2,2])"
   ]
  },
  {
   "cell_type": "code",
   "execution_count": null,
   "metadata": {},
   "outputs": [],
   "source": []
  }
 ],
 "metadata": {
  "kernelspec": {
   "display_name": "Python 3",
   "language": "python",
   "name": "python3"
  },
  "language_info": {
   "codemirror_mode": {
    "name": "ipython",
    "version": 3
   },
   "file_extension": ".py",
   "mimetype": "text/x-python",
   "name": "python",
   "nbconvert_exporter": "python",
   "pygments_lexer": "ipython3",
   "version": "3.8.3"
  }
 },
 "nbformat": 4,
 "nbformat_minor": 4
}
